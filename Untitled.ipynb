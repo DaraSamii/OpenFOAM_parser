{
 "cells": [
  {
   "cell_type": "code",
   "execution_count": 30,
   "id": "7b50b3ae-6196-48a7-9641-9ef0c717318e",
   "metadata": {},
   "outputs": [],
   "source": [
    "import re\n",
    "from foamParser import openFoamParser"
   ]
  },
  {
   "cell_type": "code",
   "execution_count": 244,
   "id": "afe821e7-7ebf-470f-90b7-42b6eb718655",
   "metadata": {},
   "outputs": [
    {
     "data": {
      "text/plain": [
       "{'FoamFile': {'version': '2.0',\n",
       "  'format': 'ascii',\n",
       "  'class': 'dictionary',\n",
       "  'location': 'system',\n",
       "  'object': 'fvSchemes'},\n",
       " 'ddtSchemes': {'default': 'steadyState'},\n",
       " 'gradSchemes': {'default': ['Gauss', 'linear']},\n",
       " 'divSchemes': {'default': 'none',\n",
       "  'div(phi,U)': ['bounded', 'Gauss', 'linearUpwind', 'grad(U)'],\n",
       "  'div(phi,k)': ['bounded', 'Gauss', 'limitedLinear', '1'],\n",
       "  'div(phi,epsilon)': ['bounded', 'Gauss', 'limitedLinear', '1'],\n",
       "  'div(phi,omega)': ['bounded', 'Gauss', 'limitedLinear', '1'],\n",
       "  'div(phi,v2)': ['bounded', 'Gauss', 'limitedLinear', '1'],\n",
       "  'div((nuEff*dev2(T(grad(U)))))': ['Gauss', 'linear'],\n",
       "  'div(nonlinearStress)': ['Gauss', 'linear']},\n",
       " 'laplacianSchemes': {'default': ['Gauss', 'linear', 'corrected']},\n",
       " 'interpolationSchemes': {'default': 'linear'},\n",
       " 'snGradSchemes': {'default': 'corrected'},\n",
       " 'wallDist': {'method': 'meshWave'}}"
      ]
     },
     "execution_count": 244,
     "metadata": {},
     "output_type": "execute_result"
    }
   ],
   "source": [
    "# Example usage:\n",
    "file_path = './pitzDaily/system/fvSchemes'   # Replace with the actual file path\n",
    "#file_path = './pitzDaily/system/fvSolution'\n",
    "#file_path = './pitzDaily/system/controlDict'\n",
    "dict1 = openFoamParser(file_path)\n",
    "dict1"
   ]
  },
  {
   "cell_type": "code",
   "execution_count": 253,
   "id": "622b1ebd-1e2b-425c-af5d-b88774cf8376",
   "metadata": {},
   "outputs": [],
   "source": [
    "def openfoam_file_maker(dictionary,ind=1):\n",
    "\n",
    "    result = \"\"\n",
    "    I = \"    \"\n",
    "    for key, value in dictionary.items():\n",
    "        if isinstance(value, dict):\n",
    "            # Handle nested dictionaries\n",
    "            result += f\"{key}\\n\"\n",
    "            result += f\"{{\\n\"\n",
    "            result += openfoam_file_maker(value,ind = ind+1)\n",
    "            result += f\"}}\\n\\n\"\n",
    "            result += \"//{}\\n\".format(\"-\"*90)\n",
    "        elif isinstance(value, list):\n",
    "            # Handle lists\n",
    "            result += \"{}{:<40}\".format(I*ind,key)\n",
    "            listing = \"\"\n",
    "            for item in value:\n",
    "                listing += \"  {}\".format(item)\n",
    "            result += \" {:>40};\\n\".format(listing)\n",
    "        else:\n",
    "            # Handle other types\n",
    "            result += \"{}{:<40} {:>40};\\n\".format(I*ind, key, value)\n",
    "\n",
    "    return result"
   ]
  },
  {
   "cell_type": "code",
   "execution_count": 256,
   "id": "363b4f7d-ce4d-4df7-8262-1f8d6fc8d2a2",
   "metadata": {},
   "outputs": [],
   "source": [
    "def openfoam_file_witer(dictionary, file_path):\n",
    "    text = openfoam_file_maker(dictionary)\n",
    "    with open(file_path,\"w\") as file:\n",
    "        file.write(text)\n",
    "    return text"
   ]
  },
  {
   "cell_type": "code",
   "execution_count": 255,
   "id": "a0efe4ca-f789-4219-b63a-bcf925bdf1cf",
   "metadata": {},
   "outputs": [
    {
     "name": "stdout",
     "output_type": "stream",
     "text": [
      "FoamFile\n",
      "{\n",
      "        version                                                                       2.0;\n",
      "        format                                                                      ascii;\n",
      "        class                                                                  dictionary;\n",
      "        location                                                                   system;\n",
      "        object                                                                  fvSchemes;\n",
      "}\n",
      "\n",
      "//------------------------------------------------------------------------------------------\n",
      "ddtSchemes\n",
      "{\n",
      "        default                                                               steadyState;\n",
      "}\n",
      "\n",
      "//------------------------------------------------------------------------------------------\n",
      "gradSchemes\n",
      "{\n",
      "        default                                                             Gauss  linear;\n",
      "}\n",
      "\n",
      "//------------------------------------------------------------------------------------------\n",
      "divSchemes\n",
      "{\n",
      "        default                                                                      none;\n",
      "        div(phi,U)                                  bounded  Gauss  linearUpwind  grad(U);\n",
      "        div(phi,k)                                       bounded  Gauss  limitedLinear  1;\n",
      "        div(phi,epsilon)                                 bounded  Gauss  limitedLinear  1;\n",
      "        div(phi,omega)                                   bounded  Gauss  limitedLinear  1;\n",
      "        div(phi,v2)                                      bounded  Gauss  limitedLinear  1;\n",
      "        div((nuEff*dev2(T(grad(U)))))                                       Gauss  linear;\n",
      "        div(nonlinearStress)                                                Gauss  linear;\n",
      "}\n",
      "\n",
      "//------------------------------------------------------------------------------------------\n",
      "laplacianSchemes\n",
      "{\n",
      "        default                                                  Gauss  linear  corrected;\n",
      "}\n",
      "\n",
      "//------------------------------------------------------------------------------------------\n",
      "interpolationSchemes\n",
      "{\n",
      "        default                                                                    linear;\n",
      "}\n",
      "\n",
      "//------------------------------------------------------------------------------------------\n",
      "snGradSchemes\n",
      "{\n",
      "        default                                                                 corrected;\n",
      "}\n",
      "\n",
      "//------------------------------------------------------------------------------------------\n",
      "wallDist\n",
      "{\n",
      "        method                                                                   meshWave;\n",
      "}\n",
      "\n",
      "//------------------------------------------------------------------------------------------\n",
      "\n"
     ]
    }
   ],
   "source": [
    "print(openfoam_file_maker(dict1))"
   ]
  },
  {
   "cell_type": "code",
   "execution_count": 257,
   "id": "d7a38cfe-f6dc-4e6f-bdc7-768ab035c442",
   "metadata": {},
   "outputs": [
    {
     "data": {
      "text/plain": [
       "'FoamFile\\n{\\n        version                                                                       2.0;\\n        format                                                                      ascii;\\n        class                                                                  dictionary;\\n        location                                                                   system;\\n        object                                                                  fvSchemes;\\n}\\n\\n//------------------------------------------------------------------------------------------\\nddtSchemes\\n{\\n        default                                                               steadyState;\\n}\\n\\n//------------------------------------------------------------------------------------------\\ngradSchemes\\n{\\n        default                                                             Gauss  linear;\\n}\\n\\n//------------------------------------------------------------------------------------------\\ndivSchemes\\n{\\n        default                                                                      none;\\n        div(phi,U)                                  bounded  Gauss  linearUpwind  grad(U);\\n        div(phi,k)                                       bounded  Gauss  limitedLinear  1;\\n        div(phi,epsilon)                                 bounded  Gauss  limitedLinear  1;\\n        div(phi,omega)                                   bounded  Gauss  limitedLinear  1;\\n        div(phi,v2)                                      bounded  Gauss  limitedLinear  1;\\n        div((nuEff*dev2(T(grad(U)))))                                       Gauss  linear;\\n        div(nonlinearStress)                                                Gauss  linear;\\n}\\n\\n//------------------------------------------------------------------------------------------\\nlaplacianSchemes\\n{\\n        default                                                  Gauss  linear  corrected;\\n}\\n\\n//------------------------------------------------------------------------------------------\\ninterpolationSchemes\\n{\\n        default                                                                    linear;\\n}\\n\\n//------------------------------------------------------------------------------------------\\nsnGradSchemes\\n{\\n        default                                                                 corrected;\\n}\\n\\n//------------------------------------------------------------------------------------------\\nwallDist\\n{\\n        method                                                                   meshWave;\\n}\\n\\n//------------------------------------------------------------------------------------------\\n'"
      ]
     },
     "execution_count": 257,
     "metadata": {},
     "output_type": "execute_result"
    }
   ],
   "source": [
    "openfoam_file_witer(dict1,\"hello\")"
   ]
  },
  {
   "cell_type": "code",
   "execution_count": null,
   "id": "56378cea-c445-443e-80ed-8ac7546ce5c6",
   "metadata": {},
   "outputs": [],
   "source": []
  }
 ],
 "metadata": {
  "kernelspec": {
   "display_name": "Python 3 (ipykernel)",
   "language": "python",
   "name": "python3"
  },
  "language_info": {
   "codemirror_mode": {
    "name": "ipython",
    "version": 3
   },
   "file_extension": ".py",
   "mimetype": "text/x-python",
   "name": "python",
   "nbconvert_exporter": "python",
   "pygments_lexer": "ipython3",
   "version": "3.10.12"
  }
 },
 "nbformat": 4,
 "nbformat_minor": 5
}
